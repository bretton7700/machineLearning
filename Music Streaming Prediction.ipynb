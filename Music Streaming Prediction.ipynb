{
 "cells": [
  {
   "cell_type": "code",
   "execution_count": 30,
   "metadata": {},
   "outputs": [
    {
     "data": {
      "text/plain": [
       "1.0"
      ]
     },
     "execution_count": 30,
     "metadata": {},
     "output_type": "execute_result"
    }
   ],
   "source": [
    "import pandas as pd\n",
    "from sklearn.tree import DecisionTreeClassifier\n",
    "# will help split data \n",
    "from sklearn.model_selection import train_test_split\n",
    "from sklearn.metrics import accuracy_score\n",
    "\n",
    "music_data = pd.read_csv('music.csv')\n",
    "# input sets\n",
    "X = music_data.drop(columns =['genre'])\n",
    "# Output set\n",
    "y = music_data['genre']\n",
    "\n",
    "# Split the dataset # the train return a tuple which we can unpack 70% train 20% test the model\n",
    "x_train,x_test,y_train,y_test =  train_test_split(X,y,test_size =0.2) \n",
    "\n",
    "\n",
    "# create instance of decision tree\n",
    "model = DecisionTreeClassifier()\n",
    "# train model give it input set and output set\n",
    "model.fit(x_train,y_train)\n",
    "\n",
    "# make prediction\n",
    "predictions = model.predict(x_test)\n",
    "# get the accuracy score\n",
    "score = accuracy_score(y_test,predictions)\n",
    "score\n",
    "\n"
   ]
  },
  {
   "cell_type": "code",
   "execution_count": null,
   "metadata": {},
   "outputs": [],
   "source": []
  }
 ],
 "metadata": {
  "kernelspec": {
   "display_name": "Python 3",
   "language": "python",
   "name": "python3"
  },
  "language_info": {
   "codemirror_mode": {
    "name": "ipython",
    "version": 3
   },
   "file_extension": ".py",
   "mimetype": "text/x-python",
   "name": "python",
   "nbconvert_exporter": "python",
   "pygments_lexer": "ipython3",
   "version": "3.8.5"
  }
 },
 "nbformat": 4,
 "nbformat_minor": 4
}
